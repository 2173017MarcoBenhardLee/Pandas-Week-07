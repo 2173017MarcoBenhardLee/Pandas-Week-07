{
 "cells": [
  {
   "cell_type": "code",
   "execution_count": 1,
   "id": "7440a3f9",
   "metadata": {},
   "outputs": [
    {
     "name": "stdout",
     "output_type": "stream",
     "text": [
      "1.3.4\n"
     ]
    }
   ],
   "source": [
    "import pandas as pd\n",
    "\n",
    "print(pd.__version__)"
   ]
  },
  {
   "cell_type": "markdown",
   "id": "9db66eb3",
   "metadata": {},
   "source": [
    "Membuat data frame dari hasil seleksi Spreadsheet"
   ]
  },
  {
   "cell_type": "code",
   "execution_count": 3,
   "id": "3c841d43",
   "metadata": {},
   "outputs": [
    {
     "data": {
      "text/html": [
       "<div>\n",
       "<style scoped>\n",
       "    .dataframe tbody tr th:only-of-type {\n",
       "        vertical-align: middle;\n",
       "    }\n",
       "\n",
       "    .dataframe tbody tr th {\n",
       "        vertical-align: top;\n",
       "    }\n",
       "\n",
       "    .dataframe thead th {\n",
       "        text-align: right;\n",
       "    }\n",
       "</style>\n",
       "<table border=\"1\" class=\"dataframe\">\n",
       "  <thead>\n",
       "    <tr style=\"text-align: right;\">\n",
       "      <th></th>\n",
       "      <th>Primed Mod</th>\n",
       "      <th>Ducat Price</th>\n",
       "      <th>Total Ducats</th>\n",
       "      <th>Quantity</th>\n",
       "      <th>Rank</th>\n",
       "      <th>Price</th>\n",
       "      <th>Sold</th>\n",
       "      <th>Platinum Gained</th>\n",
       "    </tr>\n",
       "  </thead>\n",
       "  <tbody>\n",
       "    <tr>\n",
       "      <th>0</th>\n",
       "      <td>Primed Ammo Stock</td>\n",
       "      <td>280</td>\n",
       "      <td>2800</td>\n",
       "      <td>10</td>\n",
       "      <td>0</td>\n",
       "      <td>50</td>\n",
       "      <td>0</td>\n",
       "      <td>0</td>\n",
       "    </tr>\n",
       "    <tr>\n",
       "      <th>1</th>\n",
       "      <td>Primed Cleanse Corrupted</td>\n",
       "      <td>350</td>\n",
       "      <td>3500</td>\n",
       "      <td>10</td>\n",
       "      <td>0</td>\n",
       "      <td>50</td>\n",
       "      <td>0</td>\n",
       "      <td>0</td>\n",
       "    </tr>\n",
       "    <tr>\n",
       "      <th>2</th>\n",
       "      <td>Primed Smite Corpus</td>\n",
       "      <td>350</td>\n",
       "      <td>3500</td>\n",
       "      <td>10</td>\n",
       "      <td>0</td>\n",
       "      <td>50</td>\n",
       "      <td>0</td>\n",
       "      <td>0</td>\n",
       "    </tr>\n",
       "    <tr>\n",
       "      <th>3</th>\n",
       "      <td>Primed Ravage</td>\n",
       "      <td>280</td>\n",
       "      <td>4200</td>\n",
       "      <td>15</td>\n",
       "      <td>0</td>\n",
       "      <td>50</td>\n",
       "      <td>0</td>\n",
       "      <td>0</td>\n",
       "    </tr>\n",
       "  </tbody>\n",
       "</table>\n",
       "</div>"
      ],
      "text/plain": [
       "                 Primed Mod  Ducat Price  Total Ducats  Quantity  Rank  Price  \\\n",
       "0         Primed Ammo Stock          280          2800        10     0     50   \n",
       "1  Primed Cleanse Corrupted          350          3500        10     0     50   \n",
       "2       Primed Smite Corpus          350          3500        10     0     50   \n",
       "3             Primed Ravage          280          4200        15     0     50   \n",
       "\n",
       "   Sold  Platinum Gained  \n",
       "0     0                0  \n",
       "1     0                0  \n",
       "2     0                0  \n",
       "3     0                0  "
      ]
     },
     "execution_count": 3,
     "metadata": {},
     "output_type": "execute_result"
    }
   ],
   "source": [
    "df = pd.read_clipboard() #baris pertama akan selalu digunakan untuk nama kolom\n",
    "df"
   ]
  }
 ],
 "metadata": {
  "kernelspec": {
   "display_name": "Python 3 (ipykernel)",
   "language": "python",
   "name": "python3"
  },
  "language_info": {
   "codemirror_mode": {
    "name": "ipython",
    "version": 3
   },
   "file_extension": ".py",
   "mimetype": "text/x-python",
   "name": "python",
   "nbconvert_exporter": "python",
   "pygments_lexer": "ipython3",
   "version": "3.9.7"
  }
 },
 "nbformat": 4,
 "nbformat_minor": 5
}
